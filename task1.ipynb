{
 "cells": [
  {
   "cell_type": "markdown",
   "metadata": {},
   "source": [
    "Выполнить поиск по артисту"
   ]
  },
  {
   "cell_type": "code",
   "execution_count": 21,
   "metadata": {},
   "outputs": [
    {
     "ename": "ConnectTimeout",
     "evalue": "HTTPSConnectionPool(host='itunes.apple.com', port=443): Max retries exceeded with url: /search?term=oxymiron&limit=50&media=music&entity=song&attribute=artistTerm (Caused by ConnectTimeoutError(<urllib3.connection.HTTPSConnection object at 0x0000014C1F658430>, 'Connection to itunes.apple.com timed out. (connect timeout=None)'))",
     "output_type": "error",
     "traceback": [
      "\u001b[1;31m---------------------------------------------------------------------------\u001b[0m",
      "\u001b[1;31mTimeoutError\u001b[0m                              Traceback (most recent call last)",
      "File \u001b[1;32mc:\\Users\\SVAYP\\AppData\\Local\\Programs\\Python\\Python310\\lib\\site-packages\\urllib3\\connection.py:159\u001b[0m, in \u001b[0;36mHTTPConnection._new_conn\u001b[1;34m(self)\u001b[0m\n\u001b[0;32m    158\u001b[0m \u001b[39mtry\u001b[39;00m:\n\u001b[1;32m--> 159\u001b[0m     conn \u001b[39m=\u001b[39m connection\u001b[39m.\u001b[39mcreate_connection(\n\u001b[0;32m    160\u001b[0m         (\u001b[39mself\u001b[39m\u001b[39m.\u001b[39m_dns_host, \u001b[39mself\u001b[39m\u001b[39m.\u001b[39mport), \u001b[39mself\u001b[39m\u001b[39m.\u001b[39mtimeout, \u001b[39m*\u001b[39m\u001b[39m*\u001b[39mextra_kw\n\u001b[0;32m    161\u001b[0m     )\n\u001b[0;32m    163\u001b[0m \u001b[39mexcept\u001b[39;00m SocketTimeout:\n",
      "File \u001b[1;32mc:\\Users\\SVAYP\\AppData\\Local\\Programs\\Python\\Python310\\lib\\site-packages\\urllib3\\util\\connection.py:84\u001b[0m, in \u001b[0;36mcreate_connection\u001b[1;34m(address, timeout, source_address, socket_options)\u001b[0m\n\u001b[0;32m     83\u001b[0m \u001b[39mif\u001b[39;00m err \u001b[39mis\u001b[39;00m \u001b[39mnot\u001b[39;00m \u001b[39mNone\u001b[39;00m:\n\u001b[1;32m---> 84\u001b[0m     \u001b[39mraise\u001b[39;00m err\n\u001b[0;32m     86\u001b[0m \u001b[39mraise\u001b[39;00m socket\u001b[39m.\u001b[39merror(\u001b[39m\"\u001b[39m\u001b[39mgetaddrinfo returns an empty list\u001b[39m\u001b[39m\"\u001b[39m)\n",
      "File \u001b[1;32mc:\\Users\\SVAYP\\AppData\\Local\\Programs\\Python\\Python310\\lib\\site-packages\\urllib3\\util\\connection.py:74\u001b[0m, in \u001b[0;36mcreate_connection\u001b[1;34m(address, timeout, source_address, socket_options)\u001b[0m\n\u001b[0;32m     73\u001b[0m     sock\u001b[39m.\u001b[39mbind(source_address)\n\u001b[1;32m---> 74\u001b[0m sock\u001b[39m.\u001b[39;49mconnect(sa)\n\u001b[0;32m     75\u001b[0m \u001b[39mreturn\u001b[39;00m sock\n",
      "\u001b[1;31mTimeoutError\u001b[0m: [WinError 10060] Попытка установить соединение была безуспешной, т.к. от другого компьютера за требуемое время не получен нужный отклик, или было разорвано уже установленное соединение из-за неверного отклика уже подключенного компьютера",
      "\nDuring handling of the above exception, another exception occurred:\n",
      "\u001b[1;31mConnectTimeoutError\u001b[0m                       Traceback (most recent call last)",
      "File \u001b[1;32mc:\\Users\\SVAYP\\AppData\\Local\\Programs\\Python\\Python310\\lib\\site-packages\\urllib3\\connectionpool.py:670\u001b[0m, in \u001b[0;36mHTTPConnectionPool.urlopen\u001b[1;34m(self, method, url, body, headers, retries, redirect, assert_same_host, timeout, pool_timeout, release_conn, chunked, body_pos, **response_kw)\u001b[0m\n\u001b[0;32m    669\u001b[0m \u001b[39m# Make the request on the httplib connection object.\u001b[39;00m\n\u001b[1;32m--> 670\u001b[0m httplib_response \u001b[39m=\u001b[39m \u001b[39mself\u001b[39;49m\u001b[39m.\u001b[39;49m_make_request(\n\u001b[0;32m    671\u001b[0m     conn,\n\u001b[0;32m    672\u001b[0m     method,\n\u001b[0;32m    673\u001b[0m     url,\n\u001b[0;32m    674\u001b[0m     timeout\u001b[39m=\u001b[39;49mtimeout_obj,\n\u001b[0;32m    675\u001b[0m     body\u001b[39m=\u001b[39;49mbody,\n\u001b[0;32m    676\u001b[0m     headers\u001b[39m=\u001b[39;49mheaders,\n\u001b[0;32m    677\u001b[0m     chunked\u001b[39m=\u001b[39;49mchunked,\n\u001b[0;32m    678\u001b[0m )\n\u001b[0;32m    680\u001b[0m \u001b[39m# If we're going to release the connection in ``finally:``, then\u001b[39;00m\n\u001b[0;32m    681\u001b[0m \u001b[39m# the response doesn't need to know about the connection. Otherwise\u001b[39;00m\n\u001b[0;32m    682\u001b[0m \u001b[39m# it will also try to release it and we'll have a double-release\u001b[39;00m\n\u001b[0;32m    683\u001b[0m \u001b[39m# mess.\u001b[39;00m\n",
      "File \u001b[1;32mc:\\Users\\SVAYP\\AppData\\Local\\Programs\\Python\\Python310\\lib\\site-packages\\urllib3\\connectionpool.py:381\u001b[0m, in \u001b[0;36mHTTPConnectionPool._make_request\u001b[1;34m(self, conn, method, url, timeout, chunked, **httplib_request_kw)\u001b[0m\n\u001b[0;32m    380\u001b[0m \u001b[39mtry\u001b[39;00m:\n\u001b[1;32m--> 381\u001b[0m     \u001b[39mself\u001b[39;49m\u001b[39m.\u001b[39;49m_validate_conn(conn)\n\u001b[0;32m    382\u001b[0m \u001b[39mexcept\u001b[39;00m (SocketTimeout, BaseSSLError) \u001b[39mas\u001b[39;00m e:\n\u001b[0;32m    383\u001b[0m     \u001b[39m# Py2 raises this as a BaseSSLError, Py3 raises it as socket timeout.\u001b[39;00m\n",
      "File \u001b[1;32mc:\\Users\\SVAYP\\AppData\\Local\\Programs\\Python\\Python310\\lib\\site-packages\\urllib3\\connectionpool.py:978\u001b[0m, in \u001b[0;36mHTTPSConnectionPool._validate_conn\u001b[1;34m(self, conn)\u001b[0m\n\u001b[0;32m    977\u001b[0m \u001b[39mif\u001b[39;00m \u001b[39mnot\u001b[39;00m \u001b[39mgetattr\u001b[39m(conn, \u001b[39m\"\u001b[39m\u001b[39msock\u001b[39m\u001b[39m\"\u001b[39m, \u001b[39mNone\u001b[39;00m):  \u001b[39m# AppEngine might not have  `.sock`\u001b[39;00m\n\u001b[1;32m--> 978\u001b[0m     conn\u001b[39m.\u001b[39;49mconnect()\n\u001b[0;32m    980\u001b[0m \u001b[39mif\u001b[39;00m \u001b[39mnot\u001b[39;00m conn\u001b[39m.\u001b[39mis_verified:\n",
      "File \u001b[1;32mc:\\Users\\SVAYP\\AppData\\Local\\Programs\\Python\\Python310\\lib\\site-packages\\urllib3\\connection.py:309\u001b[0m, in \u001b[0;36mHTTPSConnection.connect\u001b[1;34m(self)\u001b[0m\n\u001b[0;32m    307\u001b[0m \u001b[39mdef\u001b[39;00m \u001b[39mconnect\u001b[39m(\u001b[39mself\u001b[39m):\n\u001b[0;32m    308\u001b[0m     \u001b[39m# Add certificate verification\u001b[39;00m\n\u001b[1;32m--> 309\u001b[0m     conn \u001b[39m=\u001b[39m \u001b[39mself\u001b[39;49m\u001b[39m.\u001b[39;49m_new_conn()\n\u001b[0;32m    310\u001b[0m     hostname \u001b[39m=\u001b[39m \u001b[39mself\u001b[39m\u001b[39m.\u001b[39mhost\n",
      "File \u001b[1;32mc:\\Users\\SVAYP\\AppData\\Local\\Programs\\Python\\Python310\\lib\\site-packages\\urllib3\\connection.py:164\u001b[0m, in \u001b[0;36mHTTPConnection._new_conn\u001b[1;34m(self)\u001b[0m\n\u001b[0;32m    163\u001b[0m \u001b[39mexcept\u001b[39;00m SocketTimeout:\n\u001b[1;32m--> 164\u001b[0m     \u001b[39mraise\u001b[39;00m ConnectTimeoutError(\n\u001b[0;32m    165\u001b[0m         \u001b[39mself\u001b[39m,\n\u001b[0;32m    166\u001b[0m         \u001b[39m\"\u001b[39m\u001b[39mConnection to \u001b[39m\u001b[39m%s\u001b[39;00m\u001b[39m timed out. (connect timeout=\u001b[39m\u001b[39m%s\u001b[39;00m\u001b[39m)\u001b[39m\u001b[39m\"\u001b[39m\n\u001b[0;32m    167\u001b[0m         \u001b[39m%\u001b[39m (\u001b[39mself\u001b[39m\u001b[39m.\u001b[39mhost, \u001b[39mself\u001b[39m\u001b[39m.\u001b[39mtimeout),\n\u001b[0;32m    168\u001b[0m     )\n\u001b[0;32m    170\u001b[0m \u001b[39mexcept\u001b[39;00m SocketError \u001b[39mas\u001b[39;00m e:\n",
      "\u001b[1;31mConnectTimeoutError\u001b[0m: (<urllib3.connection.HTTPSConnection object at 0x0000014C1F658430>, 'Connection to itunes.apple.com timed out. (connect timeout=None)')",
      "\nDuring handling of the above exception, another exception occurred:\n",
      "\u001b[1;31mMaxRetryError\u001b[0m                             Traceback (most recent call last)",
      "File \u001b[1;32mc:\\Users\\SVAYP\\AppData\\Local\\Programs\\Python\\Python310\\lib\\site-packages\\requests\\adapters.py:439\u001b[0m, in \u001b[0;36mHTTPAdapter.send\u001b[1;34m(self, request, stream, timeout, verify, cert, proxies)\u001b[0m\n\u001b[0;32m    438\u001b[0m \u001b[39mif\u001b[39;00m \u001b[39mnot\u001b[39;00m chunked:\n\u001b[1;32m--> 439\u001b[0m     resp \u001b[39m=\u001b[39m conn\u001b[39m.\u001b[39;49murlopen(\n\u001b[0;32m    440\u001b[0m         method\u001b[39m=\u001b[39;49mrequest\u001b[39m.\u001b[39;49mmethod,\n\u001b[0;32m    441\u001b[0m         url\u001b[39m=\u001b[39;49murl,\n\u001b[0;32m    442\u001b[0m         body\u001b[39m=\u001b[39;49mrequest\u001b[39m.\u001b[39;49mbody,\n\u001b[0;32m    443\u001b[0m         headers\u001b[39m=\u001b[39;49mrequest\u001b[39m.\u001b[39;49mheaders,\n\u001b[0;32m    444\u001b[0m         redirect\u001b[39m=\u001b[39;49m\u001b[39mFalse\u001b[39;49;00m,\n\u001b[0;32m    445\u001b[0m         assert_same_host\u001b[39m=\u001b[39;49m\u001b[39mFalse\u001b[39;49;00m,\n\u001b[0;32m    446\u001b[0m         preload_content\u001b[39m=\u001b[39;49m\u001b[39mFalse\u001b[39;49;00m,\n\u001b[0;32m    447\u001b[0m         decode_content\u001b[39m=\u001b[39;49m\u001b[39mFalse\u001b[39;49;00m,\n\u001b[0;32m    448\u001b[0m         retries\u001b[39m=\u001b[39;49m\u001b[39mself\u001b[39;49m\u001b[39m.\u001b[39;49mmax_retries,\n\u001b[0;32m    449\u001b[0m         timeout\u001b[39m=\u001b[39;49mtimeout\n\u001b[0;32m    450\u001b[0m     )\n\u001b[0;32m    452\u001b[0m \u001b[39m# Send the request.\u001b[39;00m\n\u001b[0;32m    453\u001b[0m \u001b[39melse\u001b[39;00m:\n",
      "File \u001b[1;32mc:\\Users\\SVAYP\\AppData\\Local\\Programs\\Python\\Python310\\lib\\site-packages\\urllib3\\connectionpool.py:726\u001b[0m, in \u001b[0;36mHTTPConnectionPool.urlopen\u001b[1;34m(self, method, url, body, headers, retries, redirect, assert_same_host, timeout, pool_timeout, release_conn, chunked, body_pos, **response_kw)\u001b[0m\n\u001b[0;32m    724\u001b[0m     e \u001b[39m=\u001b[39m ProtocolError(\u001b[39m\"\u001b[39m\u001b[39mConnection aborted.\u001b[39m\u001b[39m\"\u001b[39m, e)\n\u001b[1;32m--> 726\u001b[0m retries \u001b[39m=\u001b[39m retries\u001b[39m.\u001b[39;49mincrement(\n\u001b[0;32m    727\u001b[0m     method, url, error\u001b[39m=\u001b[39;49me, _pool\u001b[39m=\u001b[39;49m\u001b[39mself\u001b[39;49m, _stacktrace\u001b[39m=\u001b[39;49msys\u001b[39m.\u001b[39;49mexc_info()[\u001b[39m2\u001b[39;49m]\n\u001b[0;32m    728\u001b[0m )\n\u001b[0;32m    729\u001b[0m retries\u001b[39m.\u001b[39msleep()\n",
      "File \u001b[1;32mc:\\Users\\SVAYP\\AppData\\Local\\Programs\\Python\\Python310\\lib\\site-packages\\urllib3\\util\\retry.py:446\u001b[0m, in \u001b[0;36mRetry.increment\u001b[1;34m(self, method, url, response, error, _pool, _stacktrace)\u001b[0m\n\u001b[0;32m    445\u001b[0m \u001b[39mif\u001b[39;00m new_retry\u001b[39m.\u001b[39mis_exhausted():\n\u001b[1;32m--> 446\u001b[0m     \u001b[39mraise\u001b[39;00m MaxRetryError(_pool, url, error \u001b[39mor\u001b[39;00m ResponseError(cause))\n\u001b[0;32m    448\u001b[0m log\u001b[39m.\u001b[39mdebug(\u001b[39m\"\u001b[39m\u001b[39mIncremented Retry for (url=\u001b[39m\u001b[39m'\u001b[39m\u001b[39m%s\u001b[39;00m\u001b[39m'\u001b[39m\u001b[39m): \u001b[39m\u001b[39m%r\u001b[39;00m\u001b[39m\"\u001b[39m, url, new_retry)\n",
      "\u001b[1;31mMaxRetryError\u001b[0m: HTTPSConnectionPool(host='itunes.apple.com', port=443): Max retries exceeded with url: /search?term=oxymiron&limit=50&media=music&entity=song&attribute=artistTerm (Caused by ConnectTimeoutError(<urllib3.connection.HTTPSConnection object at 0x0000014C1F658430>, 'Connection to itunes.apple.com timed out. (connect timeout=None)'))",
      "\nDuring handling of the above exception, another exception occurred:\n",
      "\u001b[1;31mConnectTimeout\u001b[0m                            Traceback (most recent call last)",
      "Cell \u001b[1;32mIn [21], line 13\u001b[0m\n\u001b[0;32m      3\u001b[0m search_artist \u001b[39m=\u001b[39m \u001b[39minput\u001b[39m(\u001b[39m\"\u001b[39m\u001b[39mвведите артиста: \u001b[39m\u001b[39m\"\u001b[39m)\n\u001b[0;32m      5\u001b[0m requests_params \u001b[39m=\u001b[39m {\n\u001b[0;32m      6\u001b[0m     \u001b[39m'\u001b[39m\u001b[39mterm\u001b[39m\u001b[39m'\u001b[39m:  search_artist,\n\u001b[0;32m      7\u001b[0m     \u001b[39m'\u001b[39m\u001b[39mlimit\u001b[39m\u001b[39m'\u001b[39m: \u001b[39m50\u001b[39m,\n\u001b[1;32m   (...)\u001b[0m\n\u001b[0;32m     10\u001b[0m     \u001b[39m'\u001b[39m\u001b[39mattribute\u001b[39m\u001b[39m'\u001b[39m: \u001b[39m'\u001b[39m\u001b[39martistTerm\u001b[39m\u001b[39m'\u001b[39m\n\u001b[0;32m     11\u001b[0m }\n\u001b[1;32m---> 13\u001b[0m request_data \u001b[39m=\u001b[39m json\u001b[39m.\u001b[39mloads( requests\u001b[39m.\u001b[39;49mget( \u001b[39mf\u001b[39;49m\u001b[39m\"\u001b[39;49m\u001b[39mhttps://itunes.apple.com/search?\u001b[39;49m\u001b[39m{\u001b[39;49;00murllib\u001b[39m.\u001b[39;49mparse\u001b[39m.\u001b[39;49murlencode(requests_params)\u001b[39m}\u001b[39;49;00m\u001b[39m\"\u001b[39;49m )\u001b[39m.\u001b[39mtext )\n\u001b[0;32m     15\u001b[0m \u001b[39m#print( request_data['results'] )\u001b[39;00m\n",
      "File \u001b[1;32mc:\\Users\\SVAYP\\AppData\\Local\\Programs\\Python\\Python310\\lib\\site-packages\\requests\\api.py:75\u001b[0m, in \u001b[0;36mget\u001b[1;34m(url, params, **kwargs)\u001b[0m\n\u001b[0;32m     64\u001b[0m \u001b[39mr\u001b[39m\u001b[39m\"\"\"Sends a GET request.\u001b[39;00m\n\u001b[0;32m     65\u001b[0m \n\u001b[0;32m     66\u001b[0m \u001b[39m:param url: URL for the new :class:`Request` object.\u001b[39;00m\n\u001b[1;32m   (...)\u001b[0m\n\u001b[0;32m     71\u001b[0m \u001b[39m:rtype: requests.Response\u001b[39;00m\n\u001b[0;32m     72\u001b[0m \u001b[39m\"\"\"\u001b[39;00m\n\u001b[0;32m     74\u001b[0m kwargs\u001b[39m.\u001b[39msetdefault(\u001b[39m'\u001b[39m\u001b[39mallow_redirects\u001b[39m\u001b[39m'\u001b[39m, \u001b[39mTrue\u001b[39;00m)\n\u001b[1;32m---> 75\u001b[0m \u001b[39mreturn\u001b[39;00m request(\u001b[39m'\u001b[39m\u001b[39mget\u001b[39m\u001b[39m'\u001b[39m, url, params\u001b[39m=\u001b[39mparams, \u001b[39m*\u001b[39m\u001b[39m*\u001b[39mkwargs)\n",
      "File \u001b[1;32mc:\\Users\\SVAYP\\AppData\\Local\\Programs\\Python\\Python310\\lib\\site-packages\\requests\\api.py:60\u001b[0m, in \u001b[0;36mrequest\u001b[1;34m(method, url, **kwargs)\u001b[0m\n\u001b[0;32m     56\u001b[0m \u001b[39m# By using the 'with' statement we are sure the session is closed, thus we\u001b[39;00m\n\u001b[0;32m     57\u001b[0m \u001b[39m# avoid leaving sockets open which can trigger a ResourceWarning in some\u001b[39;00m\n\u001b[0;32m     58\u001b[0m \u001b[39m# cases, and look like a memory leak in others.\u001b[39;00m\n\u001b[0;32m     59\u001b[0m \u001b[39mwith\u001b[39;00m sessions\u001b[39m.\u001b[39mSession() \u001b[39mas\u001b[39;00m session:\n\u001b[1;32m---> 60\u001b[0m     \u001b[39mreturn\u001b[39;00m session\u001b[39m.\u001b[39mrequest(method\u001b[39m=\u001b[39mmethod, url\u001b[39m=\u001b[39murl, \u001b[39m*\u001b[39m\u001b[39m*\u001b[39mkwargs)\n",
      "File \u001b[1;32mc:\\Users\\SVAYP\\AppData\\Local\\Programs\\Python\\Python310\\lib\\site-packages\\requests\\sessions.py:533\u001b[0m, in \u001b[0;36mSession.request\u001b[1;34m(self, method, url, params, data, headers, cookies, files, auth, timeout, allow_redirects, proxies, hooks, stream, verify, cert, json)\u001b[0m\n\u001b[0;32m    528\u001b[0m send_kwargs \u001b[39m=\u001b[39m {\n\u001b[0;32m    529\u001b[0m     \u001b[39m'\u001b[39m\u001b[39mtimeout\u001b[39m\u001b[39m'\u001b[39m: timeout,\n\u001b[0;32m    530\u001b[0m     \u001b[39m'\u001b[39m\u001b[39mallow_redirects\u001b[39m\u001b[39m'\u001b[39m: allow_redirects,\n\u001b[0;32m    531\u001b[0m }\n\u001b[0;32m    532\u001b[0m send_kwargs\u001b[39m.\u001b[39mupdate(settings)\n\u001b[1;32m--> 533\u001b[0m resp \u001b[39m=\u001b[39m \u001b[39mself\u001b[39m\u001b[39m.\u001b[39msend(prep, \u001b[39m*\u001b[39m\u001b[39m*\u001b[39msend_kwargs)\n\u001b[0;32m    535\u001b[0m \u001b[39mreturn\u001b[39;00m resp\n",
      "File \u001b[1;32mc:\\Users\\SVAYP\\AppData\\Local\\Programs\\Python\\Python310\\lib\\site-packages\\requests\\sessions.py:646\u001b[0m, in \u001b[0;36mSession.send\u001b[1;34m(self, request, **kwargs)\u001b[0m\n\u001b[0;32m    643\u001b[0m start \u001b[39m=\u001b[39m preferred_clock()\n\u001b[0;32m    645\u001b[0m \u001b[39m# Send the request\u001b[39;00m\n\u001b[1;32m--> 646\u001b[0m r \u001b[39m=\u001b[39m adapter\u001b[39m.\u001b[39msend(request, \u001b[39m*\u001b[39m\u001b[39m*\u001b[39mkwargs)\n\u001b[0;32m    648\u001b[0m \u001b[39m# Total elapsed time of the request (approximately)\u001b[39;00m\n\u001b[0;32m    649\u001b[0m elapsed \u001b[39m=\u001b[39m preferred_clock() \u001b[39m-\u001b[39m start\n",
      "File \u001b[1;32mc:\\Users\\SVAYP\\AppData\\Local\\Programs\\Python\\Python310\\lib\\site-packages\\requests\\adapters.py:504\u001b[0m, in \u001b[0;36mHTTPAdapter.send\u001b[1;34m(self, request, stream, timeout, verify, cert, proxies)\u001b[0m\n\u001b[0;32m    501\u001b[0m \u001b[39mif\u001b[39;00m \u001b[39misinstance\u001b[39m(e\u001b[39m.\u001b[39mreason, ConnectTimeoutError):\n\u001b[0;32m    502\u001b[0m     \u001b[39m# TODO: Remove this in 3.0.0: see #2811\u001b[39;00m\n\u001b[0;32m    503\u001b[0m     \u001b[39mif\u001b[39;00m \u001b[39mnot\u001b[39;00m \u001b[39misinstance\u001b[39m(e\u001b[39m.\u001b[39mreason, NewConnectionError):\n\u001b[1;32m--> 504\u001b[0m         \u001b[39mraise\u001b[39;00m ConnectTimeout(e, request\u001b[39m=\u001b[39mrequest)\n\u001b[0;32m    506\u001b[0m \u001b[39mif\u001b[39;00m \u001b[39misinstance\u001b[39m(e\u001b[39m.\u001b[39mreason, ResponseError):\n\u001b[0;32m    507\u001b[0m     \u001b[39mraise\u001b[39;00m RetryError(e, request\u001b[39m=\u001b[39mrequest)\n",
      "\u001b[1;31mConnectTimeout\u001b[0m: HTTPSConnectionPool(host='itunes.apple.com', port=443): Max retries exceeded with url: /search?term=oxymiron&limit=50&media=music&entity=song&attribute=artistTerm (Caused by ConnectTimeoutError(<urllib3.connection.HTTPSConnection object at 0x0000014C1F658430>, 'Connection to itunes.apple.com timed out. (connect timeout=None)'))"
     ]
    }
   ],
   "source": [
    "import requests, json, urllib.parse, dateutil.parser, statistics\n",
    "\n",
    "search_artist = input(\"введите артиста: \")\n",
    "\n",
    "requests_params = {\n",
    "    'term':  search_artist,\n",
    "    'limit': 50,\n",
    "    'media': 'music',\n",
    "    'entity': 'song',\n",
    "    'attribute': 'artistTerm'\n",
    "}\n",
    "\n",
    "request_data = json.loads( requests.get( f\"https://itunes.apple.com/search?{urllib.parse.urlencode(requests_params)}\" ).text )\n",
    "\n",
    "#print( request_data['results'] )"
   ]
  },
  {
   "cell_type": "markdown",
   "metadata": {},
   "source": [
    "Выполнить первичную очитску данных"
   ]
  },
  {
   "cell_type": "code",
   "execution_count": 22,
   "metadata": {},
   "outputs": [],
   "source": [
    "сlear_request_data = list( map( lambda anon: {**anon, 'releaseDate': dateutil.parser.isoparse(anon['releaseDate'])}, request_data['results'] ) )\n",
    "\n",
    "сlear_request_data = list( map( lambda anon: {\n",
    "    'artistName': anon['artistName'],\n",
    "    'kind' : anon['kind'],\n",
    "    'artistId': anon['artistId'],\n",
    "    'collectionId': anon['collectionId'],\n",
    "    'trackId': anon['trackId'],\n",
    "    'artistName': anon['artistName'],\n",
    "    'collectionName': anon['collectionName'],\n",
    "    'trackName': anon['trackName'],\n",
    "    'collectionPrice': anon['collectionPrice'],\n",
    "    'trackPrice': anon['trackPrice'],\n",
    "    'releaseDate': anon['releaseDate'],\n",
    "    'trackCount': anon['trackCount'],\n",
    "    'trackNumber': anon['trackNumber'],\n",
    "    'trackTimeMillis': anon['trackTimeMillis'],\n",
    "    'country': anon['country'],\n",
    "    'currency': anon['currency'],\n",
    "    'primaryGenreName': anon['primaryGenreName']\n",
    "}, сlear_request_data ) )\n",
    "\n",
    "#print(сlear_request_data)"
   ]
  },
  {
   "cell_type": "markdown",
   "metadata": {},
   "source": [
    "Немного функций для удобства"
   ]
  },
  {
   "cell_type": "code",
   "execution_count": 23,
   "metadata": {},
   "outputs": [],
   "source": [
    "def convert_millis(millis):\n",
    "    total_seconds = millis // 1000\n",
    "    seconds = total_seconds % 60\n",
    "    minutes = ( total_seconds // 60 ) % 60\n",
    "    hours = ( total_seconds // ( 60 * 60 ) )\n",
    "    return f\"{hours}:{minutes}:{seconds}\"\n",
    "\n",
    "    # С удовольствием сделал бы так но в задании четко написано {часы}:{минуты}:{секунды}\n",
    "    #if hours > 0:\n",
    "    #    return f\"{hours} часов {minutes} минут {seconds} секунд\"\n",
    "    #if minutes > 0: \n",
    "    #    return f\"{minutes} минут {seconds} секунд\"\n",
    "    #return f\"{seconds} секунд\"\n",
    "\n",
    "def frequency_filter(filter_list):\n",
    "    filter_result = { i : filter_list.count(i) for i in filter_list }\n",
    "    return max( filter_result, key = filter_result.get )"
   ]
  },
  {
   "cell_type": "markdown",
   "metadata": {},
   "source": [
    "Собрать статистику по исполнителю из полученной выборки данных"
   ]
  },
  {
   "cell_type": "code",
   "execution_count": 27,
   "metadata": {},
   "outputs": [
    {
     "name": "stdout",
     "output_type": "stream",
     "text": [
      "название исполнителя: Oxxxymiron\n",
      "количество песен: 50\n",
      "популярный жанр: Hip-Hop\n",
      "количество альбомов: 11\n",
      "общая длительность песен: 2:35:33\n",
      "средняя длительность песен: 0:3:6\n",
      "медиана длительности песен: 0:2:52\n",
      "название самой долгой песни: KONSTRUKT\n",
      "длительность самой долгой песни: 0:8:1\n",
      "название самой короткой песни: Интро\n",
      "длительность самой короткой песни: 0:1:22\n",
      "общая стоимость песен: ≈ 49.8 $\n",
      "средняя стоимость песен: ≈ 1.0 $\n",
      "медиана стоимости песен: ≈ 0.99 $\n",
      "название самой дорогой песни: ОЙДА\n",
      "стоимость самой дорогой песни: 1.29 $\n",
      "название самой дешевой песни: Полигон\n",
      "стоимость самой дешевой песни: 0.99 $\n"
     ]
    }
   ],
   "source": [
    "print( 'название исполнителя:', frequency_filter( list( map( lambda anon: anon['artistName'], сlear_request_data ) ) ) )\n",
    "\n",
    "print( 'количество песен:', len( list( map( lambda anon: anon['trackName'], сlear_request_data ) ) ) )\n",
    "\n",
    "print( 'популярный жанр:', frequency_filter( list( map( lambda anon: anon['primaryGenreName'], сlear_request_data ) ) ) )\n",
    "\n",
    "print( 'количество альбомов:', len( list( set( map( lambda anon: anon['collectionName'], сlear_request_data ) ) ) ) )\n",
    "\n",
    "print( 'общая длительность песен:', convert_millis( sum( list( map( lambda anon: anon['trackTimeMillis'], сlear_request_data ) ) ) ) )\n",
    "\n",
    "print( 'средняя длительность песен:', convert_millis( round( statistics.mean( list( map( lambda anon : anon['trackTimeMillis'], сlear_request_data ) ) ) ) ) )\n",
    "\n",
    "print( 'медиана длительности песен:', convert_millis( round( statistics.median( list( map( lambda anon : anon['trackTimeMillis'], сlear_request_data ) ) ) ) ) )\n",
    "\n",
    "print( 'название самой долгой песни:', max( сlear_request_data, key = lambda anon: anon['trackTimeMillis'] )['trackName'] )\n",
    "\n",
    "print( 'длительность самой долгой песни:', convert_millis( max( сlear_request_data, key = lambda anon: anon['trackTimeMillis'] )['trackTimeMillis'] ) )\n",
    "\n",
    "print( 'название самой короткой песни:', min( сlear_request_data, key = lambda anon: anon['trackTimeMillis'] )['trackName'] )\n",
    "\n",
    "print( 'длительность самой короткой песни:', convert_millis( min( сlear_request_data, key = lambda anon: anon['trackTimeMillis'] )['trackTimeMillis'] ) )\n",
    "\n",
    "print( 'общая стоимость песен: ≈', round( sum( list( map( lambda anon: anon['trackPrice'], сlear_request_data ) ) ), 2 ), '$' )\n",
    "\n",
    "print( 'средняя стоимость песен: ≈', round( statistics.mean( list( map( lambda anon: anon['trackPrice'], сlear_request_data ) ) ), 2 ), '$' )\n",
    "\n",
    "print( 'медиана стоимости песен: ≈', round( statistics.median( list( map( lambda anon: anon['trackPrice'], сlear_request_data ) ) ), 2 ), '$' )\n",
    "\n",
    "print( 'название самой дорогой песни:', max( сlear_request_data, key = lambda anon: anon['trackPrice'] )['trackName'] )\n",
    "\n",
    "print( 'стоимость самой дорогой песни:', max( сlear_request_data, key = lambda anon: anon['trackPrice'] )['trackPrice'], '$' )\n",
    "\n",
    "print( 'название самой дешевой песни:', min( сlear_request_data, key = lambda anon: anon['trackPrice'] )['trackName'] )\n",
    "\n",
    "print( 'стоимость самой дешевой песни:', min( сlear_request_data, key = lambda anon: anon['trackPrice'] )['trackPrice'], '$' )"
   ]
  },
  {
   "cell_type": "markdown",
   "metadata": {},
   "source": [
    "Собрать статистику по альбомам исполнителя из полученной выборки данных"
   ]
  },
  {
   "cell_type": "code",
   "execution_count": 44,
   "metadata": {},
   "outputs": [
    {
     "ename": "TypeError",
     "evalue": "list indices must be integers or slices, not str",
     "output_type": "error",
     "traceback": [
      "\u001b[1;31m---------------------------------------------------------------------------\u001b[0m",
      "\u001b[1;31mTypeError\u001b[0m                                 Traceback (most recent call last)",
      "Cell \u001b[1;32mIn [44], line 1\u001b[0m\n\u001b[1;32m----> 1\u001b[0m \u001b[39mprint\u001b[39m(сlear_request_data[\u001b[39m'\u001b[39;49m\u001b[39mcollectionName\u001b[39;49m\u001b[39m'\u001b[39;49m]);\n\u001b[0;32m      2\u001b[0m x \u001b[39m=\u001b[39m сlear_request_data\n\u001b[0;32m      3\u001b[0m get_indexes \u001b[39m=\u001b[39m \u001b[39mlambda\u001b[39;00m x, xs: [i \u001b[39mfor\u001b[39;00m (y, i) \u001b[39min\u001b[39;00m \u001b[39mzip\u001b[39m(xs, \u001b[39mrange\u001b[39m(\u001b[39mlen\u001b[39m(xs))) \u001b[39mif\u001b[39;00m x \u001b[39m==\u001b[39m y]\n",
      "\u001b[1;31mTypeError\u001b[0m: list indices must be integers or slices, not str"
     ]
    }
   ],
   "source": [
    "print(сlear_request_data['collectionName']);\n",
    "x = сlear_request_data\n",
    "get_indexes = lambda x, xs: [i for (y, i) in zip(xs, range(len(xs))) if x == y]\n",
    "print(get_indexes(\"Полигон\", x))\n"
   ]
  }
 ],
 "metadata": {
  "kernelspec": {
   "display_name": "Python 3.10.8 64-bit",
   "language": "python",
   "name": "python3"
  },
  "language_info": {
   "codemirror_mode": {
    "name": "ipython",
    "version": 3
   },
   "file_extension": ".py",
   "mimetype": "text/x-python",
   "name": "python",
   "nbconvert_exporter": "python",
   "pygments_lexer": "ipython3",
   "version": "3.10.8"
  },
  "orig_nbformat": 4,
  "vscode": {
   "interpreter": {
    "hash": "204dec6eee1bb89f3143dfa3800dd25d78e3b85fd9b03aff5fb0030d54d1f605"
   }
  }
 },
 "nbformat": 4,
 "nbformat_minor": 2
}
