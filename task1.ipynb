{
 "cells": [
  {
   "cell_type": "markdown",
   "metadata": {},
   "source": [
    "Выполнить поиск по артисту"
   ]
  },
  {
   "cell_type": "code",
   "execution_count": 177,
   "metadata": {},
   "outputs": [],
   "source": [
    "import requests, json, urllib.parse, dateutil.parser, statistics\n",
    "\n",
    "search_artist = input(\"введите артиста: \")\n",
    "\n",
    "requests_params = {\n",
    "    'term':  search_artist,\n",
    "    'limit': 100,\n",
    "    'media': 'music',\n",
    "    'entity': 'song',\n",
    "    'attribute': 'artistTerm'\n",
    "}\n",
    "\n",
    "request_data = json.loads( requests.get( f\"https://itunes.apple.com/search?{urllib.parse.urlencode(requests_params)}\" ).text )\n",
    "\n",
    "#print( request_data['results'] )"
   ]
  },
  {
   "cell_type": "markdown",
   "metadata": {},
   "source": [
    "Выполнить первичную очитску данных"
   ]
  },
  {
   "cell_type": "code",
   "execution_count": 178,
   "metadata": {},
   "outputs": [],
   "source": [
    "сlear_request_data = list( map( lambda anon: {**anon, 'releaseDate': dateutil.parser.isoparse(anon['releaseDate'])}, request_data['results'] ) )\n",
    "\n",
    "сlear_request_data = list( map( lambda anon: {\n",
    "    'artistName': anon['artistName'],\n",
    "    'kind' : anon['kind'],\n",
    "    'artistId': anon['artistId'],\n",
    "    'collectionId': anon['collectionId'],\n",
    "    'trackId': anon['trackId'],\n",
    "    'artistName': anon['artistName'],\n",
    "    'collectionName': anon['collectionName'],\n",
    "    'trackName': anon['trackName'],\n",
    "    'collectionPrice': anon['collectionPrice'],\n",
    "    'trackPrice': anon['trackPrice'],\n",
    "    'releaseDate': anon['releaseDate'],\n",
    "    'trackCount': anon['trackCount'],\n",
    "    'trackNumber': anon['trackNumber'],\n",
    "    'trackTimeMillis': anon['trackTimeMillis'],\n",
    "    'country': anon['country'],\n",
    "    'currency': anon['currency'],\n",
    "    'primaryGenreName': anon['primaryGenreName']\n",
    "}, сlear_request_data ) )\n",
    "\n",
    "#print(сlear_request_data)"
   ]
  },
  {
   "cell_type": "markdown",
   "metadata": {},
   "source": [
    "Немного функций для удобства"
   ]
  },
  {
   "cell_type": "code",
   "execution_count": 179,
   "metadata": {},
   "outputs": [],
   "source": [
    "def convert_millis(millis):\n",
    "    total_seconds = millis // 1000\n",
    "    seconds = total_seconds % 60\n",
    "    minutes = ( total_seconds // 60 ) % 60\n",
    "    hours = ( total_seconds // ( 60 * 60 ) )\n",
    "    return f\"{hours}:{minutes}:{seconds}\"\n",
    "\n",
    "    # С удовольствием сделал бы так но в задании четко написано {часы}:{минуты}:{секунды}\n",
    "    #if hours > 0:\n",
    "    #    return f\"{hours} часов {minutes} минут {seconds} секунд\"\n",
    "    #if minutes > 0: \n",
    "    #    return f\"{minutes} минут {seconds} секунд\"\n",
    "    #return f\"{seconds} секунд\"\n",
    "\n",
    "def frequency_filter(filter_list):\n",
    "    filter_result = { i : filter_list.count(i) for i in filter_list }\n",
    "    return max( filter_result, key = filter_result.get )"
   ]
  },
  {
   "cell_type": "markdown",
   "metadata": {},
   "source": [
    "Собрать статистику по исполнителю из полученной выборки данных"
   ]
  },
  {
   "cell_type": "code",
   "execution_count": null,
   "metadata": {},
   "outputs": [],
   "source": [
    "print( '------------------------------------' )\n",
    "print( 'название исполнителя:', frequency_filter( list( map( lambda anon: anon['artistName'], сlear_request_data ) ) ) )\n",
    "print( 'количество песен:', len( list( map( lambda anon: anon['trackName'], сlear_request_data ) ) ) )\n",
    "print( 'популярный жанр:', frequency_filter( list( map( lambda anon: anon['primaryGenreName'], сlear_request_data ) ) ) )\n",
    "print( 'количество альбомов:', len( list( set( map( lambda anon: anon['collectionName'], сlear_request_data ) ) ) ) )\n",
    "print( 'общая длительность песен:', convert_millis( sum( list( map( lambda anon: anon['trackTimeMillis'], сlear_request_data ) ) ) ) )\n",
    "print( 'средняя длительность песен:', convert_millis( round( statistics.mean( list( map( lambda anon : anon['trackTimeMillis'], сlear_request_data ) ) ) ) ) )\n",
    "print( 'медиана длительности песен:', convert_millis( round( statistics.median( list( map( lambda anon : anon['trackTimeMillis'], сlear_request_data ) ) ) ) ) )\n",
    "print( 'название самой долгой песни:', max( сlear_request_data, key = lambda anon: anon['trackTimeMillis'] )['trackName'] )\n",
    "print( 'длительность самой долгой песни:', convert_millis( max( сlear_request_data, key = lambda anon: anon['trackTimeMillis'] )['trackTimeMillis'] ) )\n",
    "print( 'название самой короткой песни:', min( сlear_request_data, key = lambda anon: anon['trackTimeMillis'] )['trackName'] )\n",
    "print( 'длительность самой короткой песни:', convert_millis( min( сlear_request_data, key = lambda anon: anon['trackTimeMillis'] )['trackTimeMillis'] ) )\n",
    "print( 'общая стоимость песен: ≈', round( sum( list( map( lambda anon: anon['trackPrice'], сlear_request_data ) ) ), 2 ), '$' )\n",
    "print( 'средняя стоимость песен: ≈', round( statistics.mean( list( map( lambda anon: anon['trackPrice'], сlear_request_data ) ) ), 2 ), '$' )\n",
    "print( 'медиана стоимости песен: ≈', round( statistics.median( list( map( lambda anon: anon['trackPrice'], сlear_request_data ) ) ), 2 ), '$' )\n",
    "print( 'название самой дорогой песни:', max( сlear_request_data, key = lambda anon: anon['trackPrice'] )['trackName'] )\n",
    "print( 'стоимость самой дорогой песни:', max( сlear_request_data, key = lambda anon: anon['trackPrice'] )['trackPrice'], '$' )\n",
    "print( 'название самой дешевой песни:', min( сlear_request_data, key = lambda anon: anon['trackPrice'] )['trackName'] )\n",
    "print( 'стоимость самой дешевой песни:', min( сlear_request_data, key = lambda anon: anon['trackPrice'] )['trackPrice'], '$' )\n",
    "print( '------------------------------------' )"
   ]
  },
  {
   "cell_type": "markdown",
   "metadata": {},
   "source": [
    "Собрать статистику по альбомам исполнителя из полученной выборки данных"
   ]
  },
  {
   "cell_type": "code",
   "execution_count": null,
   "metadata": {},
   "outputs": [],
   "source": [
    "album_count = len( list( set( map( lambda anon: anon['collectionName'], сlear_request_data ) ) ) );\n",
    "\n",
    "for i in range( album_count ):\n",
    "    album_name = list( set( map( lambda anon: anon['collectionName'], сlear_request_data ) ) )[i]\n",
    "    album_data = list( filter( lambda anon:album_name in anon['collectionName'], сlear_request_data ) )\n",
    "\n",
    "    print( '------------------------------------' )\n",
    "    print( 'название альбома:', frequency_filter( list( map( lambda anon: anon['collectionName'], album_data ) ) ) )\n",
    "    print( 'количество песен:', len( list( map( lambda anon: anon['trackName'], album_data ) ) ) )\n",
    "    print( 'популярный жанр:', frequency_filter( list( map( lambda anon: anon['primaryGenreName'], album_data ) ) ) )\n",
    "    print( 'дата релиза альбома:',  list( map( lambda anon: anon['releaseDate'], album_data ) )[0] )\n",
    "    print( 'общая длительность песен:', convert_millis( sum( list( map( lambda anon: anon['trackTimeMillis'], album_data ) ) ) ) )\n",
    "    print( 'средняя длительность песен:', convert_millis( round( statistics.mean( list( map( lambda anon : anon['trackTimeMillis'], album_data ) ) ) ) ) )\n",
    "    print( 'медиана длительности песен:', convert_millis( round( statistics.median( list( map( lambda anon : anon['trackTimeMillis'], album_data ) ) ) ) ) )\n",
    "    print( 'название самой долгой песни:', max( album_data, key = lambda anon: anon['trackTimeMillis'] )['trackName'] )\n",
    "    print( 'длительность самой долгой песни:', convert_millis( max( album_data, key = lambda anon: anon['trackTimeMillis'] )['trackTimeMillis'] ) )\n",
    "    print( 'название самой короткой песни:', min( album_data, key = lambda anon: anon['trackTimeMillis'] )['trackName'] )\n",
    "    print( 'длительность самой короткой песни:', convert_millis( min( album_data, key = lambda anon: anon['trackTimeMillis'] )['trackTimeMillis'] ) )\n",
    "    print( 'общая стоимость песен: ≈', round( sum( list( map( lambda anon: anon['trackPrice'], album_data ) ) ), 2 ), '$' )\n",
    "    print( 'средняя стоимость песен: ≈', round( statistics.mean( list( map( lambda anon: anon['trackPrice'], album_data ) ) ), 2 ), '$' )\n",
    "    print( 'медиана стоимости песен: ≈', round( statistics.median( list( map( lambda anon: anon['trackPrice'], album_data ) ) ), 2 ), '$' )\n",
    "    print( 'название самой дорогой песни:', max( album_data, key = lambda anon: anon['trackPrice'] )['trackName'] )\n",
    "    print( 'стоимость самой дорогой песни:', max( album_data, key = lambda anon: anon['trackPrice'] )['trackPrice'], '$' )\n",
    "    print( 'название самой дешевой песни:', min( album_data, key = lambda anon: anon['trackPrice'] )['trackName'] )\n",
    "    print( 'стоимость самой дешевой песни:', min( album_data, key = lambda anon: anon['trackPrice'] )['trackPrice'], '$' )\n",
    "    print( '------------------------------------' )"
   ]
  }
 ],
 "metadata": {
  "kernelspec": {
   "display_name": "Python 3.10.8 64-bit",
   "language": "python",
   "name": "python3"
  },
  "language_info": {
   "codemirror_mode": {
    "name": "ipython",
    "version": 3
   },
   "file_extension": ".py",
   "mimetype": "text/x-python",
   "name": "python",
   "nbconvert_exporter": "python",
   "pygments_lexer": "ipython3",
   "version": "3.10.8"
  },
  "orig_nbformat": 4,
  "vscode": {
   "interpreter": {
    "hash": "204dec6eee1bb89f3143dfa3800dd25d78e3b85fd9b03aff5fb0030d54d1f605"
   }
  }
 },
 "nbformat": 4,
 "nbformat_minor": 2
}
