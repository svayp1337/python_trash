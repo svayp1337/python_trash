{
 "cells": [
  {
   "cell_type": "code",
   "execution_count": null,
   "metadata": {},
   "outputs": [],
   "source": []
  },
  {
   "cell_type": "markdown",
   "metadata": {},
   "source": [
    "Выполнить поиск по артисту"
   ]
  },
  {
   "cell_type": "code",
   "execution_count": 127,
   "metadata": {},
   "outputs": [],
   "source": [
    "import requests, json, urllib.parse, dateutil.parser, statistics\n",
    "\n",
    "search_artist = input(\"Enter artist: \")\n",
    "\n",
    "requests_params = {\n",
    "    'term':  search_artist,\n",
    "    'limit': 200,\n",
    "    'media': 'music',\n",
    "    'entity': 'song',\n",
    "    'attribute': 'artistTerm'\n",
    "}\n",
    "\n",
    "request_data = json.loads( requests.get( f\"https://itunes.apple.com/search?{urllib.parse.urlencode(requests_params)}\" ).text )\n",
    "\n",
    "#print(request_data['results'])"
   ]
  },
  {
   "cell_type": "markdown",
   "metadata": {},
   "source": [
    "Выполнить первичную очитску данных"
   ]
  },
  {
   "cell_type": "code",
   "execution_count": 128,
   "metadata": {},
   "outputs": [],
   "source": [
    "сlear_request_data = list( map( lambda anon: {**anon, 'releaseDate': dateutil.parser.isoparse(anon['releaseDate'])}, request_data['results'] ) )\n",
    "\n",
    "сlear_request_data = list( map(lambda anon: {\n",
    "    'artistName': anon['artistName'],\n",
    "    'kind' : anon['kind'],\n",
    "    'artistId': anon['artistId'],\n",
    "    'collectionId': anon['collectionId'],\n",
    "    'trackId': anon['trackId'],\n",
    "    'artistName': anon['artistName'],\n",
    "    'collectionName': anon['collectionName'],\n",
    "    'trackName': anon['trackName'],\n",
    "    'collectionPrice': anon['collectionPrice'],\n",
    "    'trackPrice': anon['trackPrice'],\n",
    "    'releaseDate': anon['releaseDate'],\n",
    "    'trackCount': anon['trackCount'],\n",
    "    'trackNumber': anon['trackNumber'],\n",
    "    'trackTimeMillis': anon['trackTimeMillis'],\n",
    "    'country': anon['country'],\n",
    "    'currency': anon['currency'],\n",
    "    'primaryGenreName': anon['primaryGenreName']\n",
    "}, сlear_request_data) )\n",
    "\n",
    "#print(сlear_request_data)"
   ]
  },
  {
   "cell_type": "markdown",
   "metadata": {},
   "source": [
    "Немного функций для удобства"
   ]
  },
  {
   "cell_type": "code",
   "execution_count": 131,
   "metadata": {},
   "outputs": [],
   "source": [
    "def convert_millis(millis):\n",
    "    total_seconds = millis // 1000\n",
    "    seconds = total_seconds % 60\n",
    "    minutes = ( total_seconds // 60 ) % 60\n",
    "    hours = ( total_seconds // ( 60 * 60 ) )\n",
    "    return f\"{hours}:{minutes}:{seconds}\"\n",
    "\n",
    "    # С удовольствием сделал бы так но в задании четко написано {часы}:{минуты}:{секунды}\n",
    "    #if hours > 0:\n",
    "    #    return f\"{hours} часов {minutes} минут {seconds} секунд\"\n",
    "    #if minutes > 0: \n",
    "    #    return f\"{minutes} минут {seconds} секунд\"\n",
    "    #return f\"{seconds} секунд\"\n",
    "\n",
    "def frequency_filter(filter_list):\n",
    "    filter_result = { i : filter_list.count(i) for i in filter_list }\n",
    "    return max( filter_result, key = filter_result.get )"
   ]
  },
  {
   "cell_type": "markdown",
   "metadata": {},
   "source": [
    "Собрать статистику по исполнителю из полученной выборки данных"
   ]
  },
  {
   "cell_type": "code",
   "execution_count": 132,
   "metadata": {},
   "outputs": [
    {
     "name": "stdout",
     "output_type": "stream",
     "text": [
      "название исполнителя: Oxxxymiron\n",
      "количество песен: 119\n",
      "популярный жанр: Hip-Hop\n",
      "количество альбомов: 31\n",
      "общая длительность песен: 6:21:54\n",
      "средняя длительность песен: 0:2:54\n",
      "медиана длительности песен: 0:2:43\n",
      "название самой долгой песни: КТО УБИЛ МАРКА?\n",
      "длительность самой долгой песни: 0:9:27\n",
      "название самой короткой песни: Fata Morgana\n",
      "длительность самой короткой песни: 0:0:39\n",
      "общая стоимость песен: ≈ 133.59 $\n",
      "средняя стоимость песен: ≈ 1.02 $\n",
      "медиана стоимости песен: ≈ 0.99 $\n",
      "название самой дорогой песни: ОЙДА\n",
      "стоимость самой дорогой песни: 1.29 $\n",
      "название самой дешевой песни: Полигон\n",
      "стоимость самой дешевой песни: 0.99 $\n"
     ]
    }
   ],
   "source": [
    "print( 'название исполнителя:', frequency_filter( list( map( lambda anon: anon['artistName'], сlear_request_data ) ) ) )\n",
    "\n",
    "print( 'количество песен:', len( set( list( map( lambda anon: anon['trackName'], сlear_request_data ) ) ) ) )\n",
    "\n",
    "print( 'популярный жанр:', frequency_filter( list( map( lambda anon: anon['primaryGenreName'], сlear_request_data) ) ) )\n",
    "\n",
    "print( 'количество альбомов:', len( set( list( map( lambda anon: anon['collectionName'], сlear_request_data) ) ) ) )\n",
    "\n",
    "print( 'общая длительность песен:', convert_millis( sum( list( map( lambda anon: anon['trackTimeMillis'], сlear_request_data ) ) ) ) )\n",
    "\n",
    "print( 'средняя длительность песен:', convert_millis( round( statistics.mean( list( map( lambda x : x['trackTimeMillis'], сlear_request_data ) ) ) ) ) )\n",
    "\n",
    "print( 'медиана длительности песен:', convert_millis( round( statistics.median( list( map( lambda x : x['trackTimeMillis'], сlear_request_data ) ) ) ) ) )\n",
    "\n",
    "print( 'название самой долгой песни:', max( сlear_request_data, key = lambda anon: anon['trackTimeMillis'] )['trackName'] )\n",
    "\n",
    "print( 'длительность самой долгой песни:', convert_millis( max( сlear_request_data, key = lambda anon: anon['trackTimeMillis'] )['trackTimeMillis'] ) )\n",
    "\n",
    "print( 'название самой короткой песни:', min( сlear_request_data, key = lambda anon: anon['trackTimeMillis'] )['trackName'] )\n",
    "\n",
    "print( 'длительность самой короткой песни:', convert_millis( min( сlear_request_data, key = lambda anon: anon['trackTimeMillis'] )['trackTimeMillis'] ) )\n",
    "\n",
    "print( 'общая стоимость песен: ≈', round( sum( list( map( lambda anon: anon['trackPrice'], сlear_request_data) ) ), 2 ), '$' )\n",
    "\n",
    "print( 'средняя стоимость песен: ≈', round( statistics.mean( list( map( lambda anon: anon['trackPrice'], сlear_request_data) ) ), 2 ), '$' )\n",
    "\n",
    "print( 'медиана стоимости песен: ≈', round( statistics.median( list( map( lambda anon: anon['trackPrice'], сlear_request_data) ) ), 2 ), '$' )\n",
    "\n",
    "print( 'название самой дорогой песни:', max( сlear_request_data, key = lambda anon: anon['trackPrice'] )['trackName'] )\n",
    "\n",
    "print( 'стоимость самой дорогой песни:', max( сlear_request_data, key = lambda anon: anon['trackPrice'] )['trackPrice'], '$' )\n",
    "\n",
    "print( 'название самой дешевой песни:', min( сlear_request_data, key = lambda anon: anon['trackPrice'] )['trackName'] )\n",
    "\n",
    "print( 'стоимость самой дешевой песни:', min( сlear_request_data, key = lambda anon: anon['trackPrice'] )['trackPrice'], '$' )"
   ]
  },
  {
   "cell_type": "markdown",
   "metadata": {},
   "source": [
    "Собрать статистику по альбомам исполнителя из полученной выборки данных"
   ]
  },
  {
   "cell_type": "code",
   "execution_count": null,
   "metadata": {},
   "outputs": [],
   "source": []
  }
 ],
 "metadata": {
  "kernelspec": {
   "display_name": "Python 3.10.8 64-bit",
   "language": "python",
   "name": "python3"
  },
  "language_info": {
   "codemirror_mode": {
    "name": "ipython",
    "version": 3
   },
   "file_extension": ".py",
   "mimetype": "text/x-python",
   "name": "python",
   "nbconvert_exporter": "python",
   "pygments_lexer": "ipython3",
   "version": "3.10.8"
  },
  "orig_nbformat": 4,
  "vscode": {
   "interpreter": {
    "hash": "204dec6eee1bb89f3143dfa3800dd25d78e3b85fd9b03aff5fb0030d54d1f605"
   }
  }
 },
 "nbformat": 4,
 "nbformat_minor": 2
}
