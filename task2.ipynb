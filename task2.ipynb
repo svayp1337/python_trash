{
 "cells": [
  {
   "cell_type": "code",
   "execution_count": 19,
   "metadata": {},
   "outputs": [],
   "source": [
    "import seaborn as sns\n",
    "import pandas as pd\n",
    "import numpy as np\n",
    "import matplotlib\n",
    "\n",
    "year = 1995"
   ]
  },
  {
   "cell_type": "markdown",
   "metadata": {},
   "source": [
    "1. Объединить 2 датасета:\n",
    "Из первого получить данные [1994, 2002], из второго [2002, 2014] "
   ]
  },
  {
   "cell_type": "code",
   "execution_count": 20,
   "metadata": {},
   "outputs": [],
   "source": [
    "first_dataset = pd.read_csv(\"https://raw.githubusercontent.com/fivethirtyeight/data/master/births/US_births_1994-2003_CDC_NCHS.csv\")\n",
    "second_dataset = pd.read_csv(\"https://raw.githubusercontent.com/fivethirtyeight/data/master/births/US_births_2000-2014_SSA.csv\")\n",
    "\n",
    "full_data = pd.concat([first_dataset, second_dataset])\n",
    "\n",
    "first_dataset_years = first_dataset.loc[((first_dataset['year'] == 1994) | (first_dataset['year' ] == 2002))]\n",
    "second_dataset_years = second_dataset.loc[((second_dataset['year'] == 2002) | (second_dataset['year' ] == 2014))]\n",
    "\n",
    "years_data = pd.concat([first_dataset_years, second_dataset_years])"
   ]
  },
  {
   "cell_type": "markdown",
   "metadata": {},
   "source": [
    "2. Создать столбец содержащий дату в следующем формате:\n",
    "31-12-2014"
   ]
  },
  {
   "cell_type": "code",
   "execution_count": null,
   "metadata": {},
   "outputs": [],
   "source": [
    "# 06.12.2022 костыль блинб какой-то - исправь \n",
    "# 13.12.2022 сам исправь раз умный такой\n",
    "date = pd.to_datetime(years_data['date_of_month'].astype(str) + \"-\" + years_data['month'].astype(str) + \"-\" + years_data['year'].astype(str), dayfirst=True)\n",
    "years_data.insert(1, \"date\", date.dt.strftime('%d-%m-%Y'))\n",
    "years_data.head()"
   ]
  },
  {
   "cell_type": "markdown",
   "metadata": {},
   "source": [
    "3. Построить линейный график рождаемости за год (год соответствует вашему варианту):\n",
    "- по месяцам\n",
    "- по неделям"
   ]
  },
  {
   "cell_type": "code",
   "execution_count": null,
   "metadata": {},
   "outputs": [],
   "source": [
    "year_data = full_data.loc[full_data['year'] == year]\n",
    "# 06.12.2022 сделай потом палитру норм а то цвета повторяются\n",
    "# 13.12.2022 сам сделай я устал за сегодня а сдавать это завтра\n",
    "color = sns.color_palette()\n",
    "sns.set_style(\"whitegrid\")\n",
    "sns.lineplot(data=year_data, x=\"month\", y=\"births\", errorbar=None)"
   ]
  },
  {
   "cell_type": "code",
   "execution_count": 27,
   "metadata": {},
   "outputs": [],
   "source": [
    "# 06.12.2022 потом когда-нибудь сделаю\n",
    "# 13.12.2022 потом когда-нибудь сделаю"
   ]
  },
  {
   "cell_type": "markdown",
   "metadata": {},
   "source": [
    "4. Сравнить рождаемость с помощью колоночной диаграммы за первый и последний месяц года (год соответствует вашему варианту)"
   ]
  },
  {
   "cell_type": "code",
   "execution_count": null,
   "metadata": {},
   "outputs": [],
   "source": [
    "month_data = year_data.loc[(year_data['month'] == 1) | (year_data['month' ] == 12)]\n",
    "sns.catplot(data=month_data, x=\"month\", y=\"births\", kind=\"bar\")"
   ]
  },
  {
   "cell_type": "markdown",
   "metadata": {},
   "source": [
    "5. Сделать сравнительный линейный график рождаемости за каждый день по месяцам года (год соответсвует вашему варианту)"
   ]
  },
  {
   "cell_type": "code",
   "execution_count": null,
   "metadata": {},
   "outputs": [],
   "source": [
    "sns.lineplot(data=year_data, x=\"date_of_month\", y=\"births\", hue=\"month\", palette=color, errorbar=None)"
   ]
  },
  {
   "cell_type": "markdown",
   "metadata": {},
   "source": [
    "6. Сделать сравнительный линейный график рождаемости за каждый месяц по всем годам"
   ]
  },
  {
   "cell_type": "code",
   "execution_count": null,
   "metadata": {},
   "outputs": [],
   "source": [
    "sns.lineplot(data=full_data, x=\"month\", y=\"births\", hue=\"year\", palette=color, errorbar=None)"
   ]
  }
 ],
 "metadata": {
  "kernelspec": {
   "display_name": "Python 3",
   "language": "python",
   "name": "python3"
  },
  "language_info": {
   "codemirror_mode": {
    "name": "ipython",
    "version": 3
   },
   "file_extension": ".py",
   "mimetype": "text/x-python",
   "name": "python",
   "nbconvert_exporter": "python",
   "pygments_lexer": "ipython3",
   "version": "3.10.9 (tags/v3.10.9:1dd9be6, Dec  6 2022, 20:01:21) [MSC v.1934 64 bit (AMD64)]"
  },
  "orig_nbformat": 4,
  "vscode": {
   "interpreter": {
    "hash": "b7dc7239851485d881d85307fd069665b9e435ea7c7f6a2b3ec0588a8ecc0d28"
   }
  }
 },
 "nbformat": 4,
 "nbformat_minor": 2
}
